{
 "cells": [
  {
   "cell_type": "markdown",
   "metadata": {},
   "source": [
    "# Collaboration and Competition\n",
    "\n",
    "---\n",
    "\n",
    "Train a pair of agents to play tennis.\n",
    "\n",
    "### 1. Start the Environment\n",
    "\n",
    "Begin by importing the necessary packages.  If the code cell below returns an error, please revisit the project instructions to double-check that you have installed [Unity ML-Agents](https://github.com/Unity-Technologies/ml-agents/blob/master/docs/Installation.md) and [NumPy](http://www.numpy.org/)."
   ]
  },
  {
   "cell_type": "code",
   "execution_count": 1,
   "metadata": {},
   "outputs": [],
   "source": [
    "from unityagents import UnityEnvironment\n",
    "import numpy as np"
   ]
  },
  {
   "cell_type": "markdown",
   "metadata": {},
   "source": [
    "Next, we will start the environment!  **_Before running the code cell below_**, change the `file_name` parameter to match the location of the Unity environment that you downloaded.\n",
    "\n",
    "- **Mac**: `\"path/to/Tennis.app\"`\n",
    "- **Windows** (x86): `\"path/to/Tennis_Windows_x86/Tennis.exe\"`\n",
    "- **Windows** (x86_64): `\"path/to/Tennis_Windows_x86_64/Tennis.exe\"`\n",
    "- **Linux** (x86): `\"path/to/Tennis_Linux/Tennis.x86\"`\n",
    "- **Linux** (x86_64): `\"path/to/Tennis_Linux/Tennis.x86_64\"`\n",
    "- **Linux** (x86, headless): `\"path/to/Tennis_Linux_NoVis/Tennis.x86\"`\n",
    "- **Linux** (x86_64, headless): `\"path/to/Tennis_Linux_NoVis/Tennis.x86_64\"`\n",
    "\n",
    "For instance, if you are using a Mac, then you downloaded `Tennis.app`.  If this file is in the same folder as the notebook, then the line below should appear as follows:\n",
    "```\n",
    "env = UnityEnvironment(file_name=\"Tennis.app\")\n",
    "```"
   ]
  },
  {
   "cell_type": "code",
   "execution_count": 2,
   "metadata": {},
   "outputs": [
    {
     "name": "stderr",
     "output_type": "stream",
     "text": [
      "INFO:unityagents:\n",
      "'Academy' started successfully!\n",
      "Unity Academy name: Academy\n",
      "        Number of Brains: 1\n",
      "        Number of External Brains : 1\n",
      "        Lesson number : 0\n",
      "        Reset Parameters :\n",
      "\t\t\n",
      "Unity brain name: TennisBrain\n",
      "        Number of Visual Observations (per agent): 0\n",
      "        Vector Observation space type: continuous\n",
      "        Vector Observation space size (per agent): 8\n",
      "        Number of stacked Vector Observation: 3\n",
      "        Vector Action space type: continuous\n",
      "        Vector Action space size (per agent): 2\n",
      "        Vector Action descriptions: , \n"
     ]
    }
   ],
   "source": [
    "env = UnityEnvironment(file_name = \"Tennis_Windows_x86_64/Tennis.exe\")"
   ]
  },
  {
   "cell_type": "markdown",
   "metadata": {},
   "source": [
    "Environments contain **_brains_** which are responsible for deciding the actions of their associated agents. Here, we check for the first brain available & set it as the default brain we'll be controlling from Python."
   ]
  },
  {
   "cell_type": "code",
   "execution_count": 3,
   "metadata": {},
   "outputs": [],
   "source": [
    "# get the default brain\n",
    "brain_name = env.brain_names[0]\n",
    "brain = env.brains[brain_name]"
   ]
  },
  {
   "cell_type": "markdown",
   "metadata": {},
   "source": [
    "### 2. Examine the State and Action Spaces\n",
    "\n",
    "In this environment, two agents control rackets to bounce a ball over a net. If an agent hits the ball over the net, it receives a reward of +0.1.  If an agent lets a ball hit the ground or hits the ball out of bounds, it receives a reward of -0.01.  Thus, the goal of each agent is to keep the ball in play.\n",
    "\n",
    "The observation space consists of 8 variables corresponding to the position and velocity of the ball and racket. Two continuous actions are available, corresponding to movement toward (or away from) the net, and jumping. \n",
    "\n",
    "Run the code cell below to print some information about the environment."
   ]
  },
  {
   "cell_type": "code",
   "execution_count": 4,
   "metadata": {},
   "outputs": [
    {
     "name": "stdout",
     "output_type": "stream",
     "text": [
      "Number of agents: 2\n",
      "Size of each action: 2\n",
      "There are 2 agents. Each observes a state with length: 24\n",
      "The state for the first agent looks like: [ 0.          0.          0.          0.          0.          0.\n",
      "  0.          0.          0.          0.          0.          0.\n",
      "  0.          0.          0.          0.         -6.65278625 -1.5\n",
      " -0.          0.          6.83172083  6.         -0.          0.        ]\n"
     ]
    }
   ],
   "source": [
    "# reset the environment\n",
    "env_info = env.reset(train_mode=True)[brain_name]\n",
    "\n",
    "# number of agents \n",
    "num_agents = len(env_info.agents)\n",
    "print('Number of agents:', num_agents)\n",
    "\n",
    "# size of each action\n",
    "action_size = brain.vector_action_space_size\n",
    "print('Size of each action:', action_size)\n",
    "\n",
    "# examine the state space \n",
    "states = env_info.vector_observations\n",
    "state_size = states.shape[1]\n",
    "print('There are {} agents. Each observes a state with length: {}'.format(states.shape[0], state_size))\n",
    "print('The state for the first agent looks like:', states[0])"
   ]
  },
  {
   "cell_type": "markdown",
   "metadata": {},
   "source": [
    "### 3. Take Random Actions in the Environment\n",
    "\n",
    "***(Uncomment the code to try)***\n",
    "\n",
    "Next, use the Python API to control the agents and receive feedback from the environment.\n",
    "\n",
    "Once this cell is executed, we'll watch the agents' performance, if they select actions at random with each time step.  A window should pop up that allows you to observe the agents."
   ]
  },
  {
   "cell_type": "code",
   "execution_count": 5,
   "metadata": {},
   "outputs": [],
   "source": [
    "#for i in range(1, 6):                                      # play game for 5 episodes\n",
    "#    env_info = env.reset(train_mode=False)[brain_name]     # reset the environment    \n",
    "#    states = env_info.vector_observations                  # get the current state (for each agent)\n",
    "#    scores = np.zeros(num_agents)                          # initialize the score (for each agent)\n",
    "#    \n",
    "#    while True:\n",
    "#        actions = np.random.randn(num_agents, action_size) # select an action (for each agent)\n",
    "#        actions = np.clip(actions, -1, 1)                  # all actions between -1 and 1\n",
    "#        env_info = env.step(actions)[brain_name]           # send all actions to tne environment\n",
    "#        next_states = env_info.vector_observations         # get next state (for each agent)\n",
    "#        rewards = env_info.rewards                         # get reward (for each agent)\n",
    "#        dones = env_info.local_done                        # see if episode finished\n",
    "#        scores += env_info.rewards                         # update the score (for each agent)\n",
    "#        states = next_states                               # roll over states to next time step\n",
    "        \n",
    "#        if np.any(dones):                                  # exit loop if episode finished\n",
    "#            break\n",
    "            \n",
    "#    print('Score (max over agents) from episode {}: {}'.format(i, np.max(scores)))"
   ]
  },
  {
   "cell_type": "markdown",
   "metadata": {},
   "source": [
    "When finished, you can close the environment."
   ]
  },
  {
   "cell_type": "code",
   "execution_count": 6,
   "metadata": {},
   "outputs": [],
   "source": [
    "# env.close() # avoid closing to further train the agent on environment with DQN"
   ]
  },
  {
   "cell_type": "markdown",
   "metadata": {},
   "source": [
    "## 4. MADDPG implementation\n",
    "\n",
    "This implementation deals with making the agent to be able to use its experience to gradually choose better actions when interacting with the environment!\n",
    "\n",
    "Unlike the previous run, when training the environment, `train_mode = True` should be set:\n",
    "```python\n",
    "env_info = env.reset(train_mode=True)[brain_name]\n",
    "```\n",
    "\n",
    "The MADDPG agent uses multiple DDPG agents which solves the environment by playing against each other. The task is episodic, and in order to solve the environment, the agents must get an average score of +0.5 (over 100 consecutive episodes, after taking the maximum over both agents). Specifically,\n",
    "\n",
    "- After each episode, we add up the rewards that each agent received (without discounting), to get a score for each agent. This yields 2 (potentially different) scores. We then take the maximum of these 2 scores.\n",
    "- This yields a single score for each episode."
   ]
  },
  {
   "cell_type": "markdown",
   "metadata": {},
   "source": [
    "#### 4.1 Import some necessary packages"
   ]
  },
  {
   "cell_type": "code",
   "execution_count": 7,
   "metadata": {},
   "outputs": [],
   "source": [
    "#Some packages may be already imported\n",
    "from agent import MADDPGAgent\n",
    "from collections import deque\n",
    "import torch\n",
    "\n",
    "import matplotlib.pyplot as plt\n",
    "%matplotlib inline"
   ]
  },
  {
   "cell_type": "markdown",
   "metadata": {},
   "source": [
    "#### 4.2 Define a MADDPG model\n",
    "\n",
    "Run the code cell below to train the agent from scratch or skip to the next step **Instantiate the Agent** & then **4.3 Watch a Smart Agent!**, to load the saved weights from a pre-trained agent & watch the agent.\n",
    "\n",
    "Alternatively, load the model along with the saved weights into a different solution file such that one doesn't need to build a model from scratch."
   ]
  },
  {
   "cell_type": "code",
   "execution_count": 9,
   "metadata": {},
   "outputs": [],
   "source": [
    "def maddpg(agent, epochs = 5000, print_every = 10):\n",
    "    \n",
    "    scores = []                                                       # list containing scores from each episode\n",
    "    scores_window = deque(maxlen = 100)                               # last 100 scores\n",
    "    # avg_scores_list = []                                            # initialize to plot average score graph\n",
    "    \n",
    "    for i_episode in range(1, epochs + 1):\n",
    "        env_info = env.reset(train_mode = True)[brain_name]           # reset the environment    \n",
    "        states = env_info.vector_observations                         # get the current state (for each agent)\n",
    "        agent.reset()                                                 # use when add_noise = True\n",
    "        score = np.zeros(num_agents)                                  # initialize the score (for each agent)\n",
    "        \n",
    "        # for each agent\n",
    "        while True: \n",
    "            actions = agent.act(states, add_noise = True)             # select actions \n",
    "            env_info = env.step(actions)[brain_name]                  # send actions to the environment\n",
    "            next_states = env_info.vector_observations\n",
    "            rewards = env_info.rewards         \n",
    "            dones = env_info.local_done                               \n",
    "            agent.step(states, actions, rewards, next_states, dones)  # append experience to buffer\n",
    "            \n",
    "            states = next_states                                      # roll over state to next time step\n",
    "            score += rewards                                          # update the scores  \n",
    "\n",
    "            if any(dones):                                            # see if episode for any agents finishes\n",
    "                break\n",
    "\n",
    "        score_max = np.max(score)\n",
    "        scores_window.append(score_max)\n",
    "        scores.append(score_max)\n",
    "        # average_score = np.mean(scores_window)\n",
    "        # average_scores.append(average_score)\n",
    "\n",
    "        print('\\rEpisode {}\\tAverage Score: {:.4f}'.format(i_episode, np.mean(scores_window)), end=\"\")\n",
    "        \n",
    "        if (i_episode % print_every == 0):\n",
    "            print('\\rEpisode {}\\tAverage Score: {:.4f}'.format(i_episode, np.mean(scores_window)))\n",
    "            \n",
    "        if (np.mean(scores_window) >= 0.5 and i_episode > 100):\n",
    "            print('Problem Solved in {} episodes\\tAverage score: {:.4f}'.format(i_episode - 100, np.mean(scores_window)))\n",
    "            agent.save_weights()\n",
    "            break\n",
    "            \n",
    "    return scores"
   ]
  },
  {
   "cell_type": "markdown",
   "metadata": {},
   "source": [
    "**Instantiate the agent**"
   ]
  },
  {
   "cell_type": "code",
   "execution_count": 8,
   "metadata": {},
   "outputs": [],
   "source": [
    "agent = MADDPGAgent(state_size = 24 , action_size = 2, num_agents = num_agents, seed = 0)"
   ]
  },
  {
   "cell_type": "markdown",
   "metadata": {},
   "source": [
    "**Train the agent**"
   ]
  },
  {
   "cell_type": "code",
   "execution_count": 11,
   "metadata": {
    "scrolled": true
   },
   "outputs": [
    {
     "name": "stdout",
     "output_type": "stream",
     "text": [
      "Episode 10\tAverage Score: 0.0000\n",
      "Episode 20\tAverage Score: 0.0000\n",
      "Episode 30\tAverage Score: 0.0000\n",
      "Episode 40\tAverage Score: 0.0000\n",
      "Episode 50\tAverage Score: 0.0096\n",
      "Episode 60\tAverage Score: 0.0127\n",
      "Episode 70\tAverage Score: 0.0109\n",
      "Episode 80\tAverage Score: 0.0095\n",
      "Episode 90\tAverage Score: 0.0084\n",
      "Episode 100\tAverage Score: 0.0076\n",
      "Episode 110\tAverage Score: 0.0076\n",
      "Episode 120\tAverage Score: 0.0076\n",
      "Episode 130\tAverage Score: 0.0076\n",
      "Episode 140\tAverage Score: 0.0076\n",
      "Episode 150\tAverage Score: 0.0028\n",
      "Episode 160\tAverage Score: 0.0000\n",
      "Episode 170\tAverage Score: 0.0000\n",
      "Episode 180\tAverage Score: 0.0000\n",
      "Episode 190\tAverage Score: 0.0000\n",
      "Episode 200\tAverage Score: 0.0000\n",
      "Episode 210\tAverage Score: 0.0000\n",
      "Episode 220\tAverage Score: 0.0000\n",
      "Episode 230\tAverage Score: 0.0000\n",
      "Episode 240\tAverage Score: 0.0000\n",
      "Episode 250\tAverage Score: 0.0000\n",
      "Episode 260\tAverage Score: 0.0000\n",
      "Episode 270\tAverage Score: 0.0000\n",
      "Episode 280\tAverage Score: 0.0000\n",
      "Episode 290\tAverage Score: 0.0000\n",
      "Episode 300\tAverage Score: 0.0000\n",
      "Episode 310\tAverage Score: 0.0000\n",
      "Episode 320\tAverage Score: 0.0009\n",
      "Episode 330\tAverage Score: 0.0009\n",
      "Episode 340\tAverage Score: 0.0009\n",
      "Episode 350\tAverage Score: 0.0009\n",
      "Episode 360\tAverage Score: 0.0009\n",
      "Episode 370\tAverage Score: 0.0019\n",
      "Episode 380\tAverage Score: 0.0039\n",
      "Episode 390\tAverage Score: 0.0077\n",
      "Episode 400\tAverage Score: 0.0087\n",
      "Episode 410\tAverage Score: 0.0133\n",
      "Episode 420\tAverage Score: 0.0144\n",
      "Episode 430\tAverage Score: 0.0181\n",
      "Episode 440\tAverage Score: 0.0208\n",
      "Episode 450\tAverage Score: 0.0208\n",
      "Episode 460\tAverage Score: 0.0236\n",
      "Episode 470\tAverage Score: 0.0254\n",
      "Episode 480\tAverage Score: 0.0262\n",
      "Episode 490\tAverage Score: 0.0242\n",
      "Episode 500\tAverage Score: 0.0232\n",
      "Episode 510\tAverage Score: 0.0195\n",
      "Episode 520\tAverage Score: 0.0175\n",
      "Episode 530\tAverage Score: 0.0138\n",
      "Episode 540\tAverage Score: 0.0111\n",
      "Episode 550\tAverage Score: 0.0111\n",
      "Episode 560\tAverage Score: 0.0083\n",
      "Episode 570\tAverage Score: 0.0055\n",
      "Episode 580\tAverage Score: 0.0027\n",
      "Episode 590\tAverage Score: 0.0009\n",
      "Episode 600\tAverage Score: 0.0009\n",
      "Episode 610\tAverage Score: 0.0000\n",
      "Episode 620\tAverage Score: 0.0000\n",
      "Episode 630\tAverage Score: 0.0000\n",
      "Episode 640\tAverage Score: 0.0000\n",
      "Episode 650\tAverage Score: 0.0010\n",
      "Episode 660\tAverage Score: 0.0020\n",
      "Episode 670\tAverage Score: 0.0030\n",
      "Episode 680\tAverage Score: 0.0030\n",
      "Episode 690\tAverage Score: 0.0060\n",
      "Episode 700\tAverage Score: 0.0100\n",
      "Episode 710\tAverage Score: 0.0130\n",
      "Episode 720\tAverage Score: 0.0160\n",
      "Episode 730\tAverage Score: 0.0180\n",
      "Episode 740\tAverage Score: 0.0210\n",
      "Episode 750\tAverage Score: 0.0270\n",
      "Episode 760\tAverage Score: 0.0260\n",
      "Episode 770\tAverage Score: 0.0280\n",
      "Episode 780\tAverage Score: 0.0320\n",
      "Episode 790\tAverage Score: 0.0320\n",
      "Episode 800\tAverage Score: 0.0329\n",
      "Episode 810\tAverage Score: 0.0336\n",
      "Episode 820\tAverage Score: 0.0346\n",
      "Episode 830\tAverage Score: 0.0354\n",
      "Episode 840\tAverage Score: 0.0342\n",
      "Episode 850\tAverage Score: 0.0299\n",
      "Episode 860\tAverage Score: 0.0355\n",
      "Episode 870\tAverage Score: 0.0352\n",
      "Episode 880\tAverage Score: 0.0321\n",
      "Episode 890\tAverage Score: 0.0329\n",
      "Episode 900\tAverage Score: 0.0307\n",
      "Episode 910\tAverage Score: 0.0316\n",
      "Episode 920\tAverage Score: 0.0303\n",
      "Episode 930\tAverage Score: 0.0303\n",
      "Episode 940\tAverage Score: 0.0322\n",
      "Episode 950\tAverage Score: 0.0331\n",
      "Episode 960\tAverage Score: 0.0321\n",
      "Episode 970\tAverage Score: 0.0330\n",
      "Episode 980\tAverage Score: 0.0357\n",
      "Episode 990\tAverage Score: 0.0355\n",
      "Episode 1000\tAverage Score: 0.0355\n",
      "Episode 1010\tAverage Score: 0.0337\n",
      "Episode 1020\tAverage Score: 0.0347\n",
      "Episode 1030\tAverage Score: 0.0418\n",
      "Episode 1040\tAverage Score: 0.0441\n",
      "Episode 1050\tAverage Score: 0.0452\n",
      "Episode 1060\tAverage Score: 0.0483\n",
      "Episode 1070\tAverage Score: 0.0540\n",
      "Episode 1080\tAverage Score: 0.0561\n",
      "Episode 1090\tAverage Score: 0.0602\n",
      "Episode 1100\tAverage Score: 0.0652\n",
      "Episode 1110\tAverage Score: 0.0712\n",
      "Episode 1120\tAverage Score: 0.0779\n",
      "Episode 1130\tAverage Score: 0.0797\n",
      "Episode 1140\tAverage Score: 0.0854\n",
      "Episode 1150\tAverage Score: 0.0904\n",
      "Episode 1160\tAverage Score: 0.0894\n",
      "Episode 1170\tAverage Score: 0.0928\n",
      "Episode 1180\tAverage Score: 0.0987\n",
      "Episode 1190\tAverage Score: 0.1057\n",
      "Episode 1200\tAverage Score: 0.1156\n",
      "Episode 1210\tAverage Score: 0.1172\n",
      "Episode 1220\tAverage Score: 0.1268\n",
      "Episode 1230\tAverage Score: 0.1285\n",
      "Episode 1240\tAverage Score: 0.1314\n",
      "Episode 1250\tAverage Score: 0.1402\n",
      "Episode 1260\tAverage Score: 0.1522\n",
      "Episode 1270\tAverage Score: 0.1491\n",
      "Episode 1280\tAverage Score: 0.1471\n",
      "Episode 1290\tAverage Score: 0.1417\n",
      "Episode 1300\tAverage Score: 0.1347\n",
      "Episode 1310\tAverage Score: 0.1340\n",
      "Episode 1320\tAverage Score: 0.1235\n",
      "Episode 1330\tAverage Score: 0.1198\n",
      "Episode 1340\tAverage Score: 0.1148\n",
      "Episode 1350\tAverage Score: 0.1059\n",
      "Episode 1360\tAverage Score: 0.0967\n",
      "Episode 1370\tAverage Score: 0.0956\n",
      "Episode 1380\tAverage Score: 0.0955\n",
      "Episode 1390\tAverage Score: 0.0949\n",
      "Episode 1400\tAverage Score: 0.0946\n",
      "Episode 1410\tAverage Score: 0.0945\n",
      "Episode 1420\tAverage Score: 0.0945\n",
      "Episode 1430\tAverage Score: 0.0945\n",
      "Episode 1440\tAverage Score: 0.0937\n",
      "Episode 1450\tAverage Score: 0.0968\n",
      "Episode 1460\tAverage Score: 0.1052\n",
      "Episode 1470\tAverage Score: 0.1060\n",
      "Episode 1480\tAverage Score: 0.1091\n",
      "Episode 1490\tAverage Score: 0.1170\n",
      "Episode 1500\tAverage Score: 0.1237\n",
      "Episode 1510\tAverage Score: 0.1359\n",
      "Episode 1520\tAverage Score: 0.1473\n",
      "Episode 1530\tAverage Score: 0.1686\n",
      "Episode 1540\tAverage Score: 0.1757\n",
      "Episode 1550\tAverage Score: 0.1938\n",
      "Episode 1560\tAverage Score: 0.2129\n",
      "Episode 1570\tAverage Score: 0.2322\n",
      "Episode 1580\tAverage Score: 0.2466\n",
      "Episode 1590\tAverage Score: 0.2629\n",
      "Episode 1600\tAverage Score: 0.2748\n",
      "Episode 1610\tAverage Score: 0.2720\n",
      "Episode 1620\tAverage Score: 0.2840\n",
      "Episode 1630\tAverage Score: 0.2839\n",
      "Episode 1640\tAverage Score: 0.2988\n",
      "Episode 1650\tAverage Score: 0.3110\n",
      "Episode 1660\tAverage Score: 0.3369\n",
      "Episode 1670\tAverage Score: 0.3382\n",
      "Episode 1680\tAverage Score: 0.3501\n",
      "Episode 1690\tAverage Score: 0.3571\n",
      "Episode 1700\tAverage Score: 0.3558\n",
      "Episode 1710\tAverage Score: 0.3606\n",
      "Episode 1720\tAverage Score: 0.3584\n",
      "Episode 1730\tAverage Score: 0.3462\n",
      "Episode 1740\tAverage Score: 0.3801\n",
      "Episode 1750\tAverage Score: 0.3968\n",
      "Episode 1760\tAverage Score: 0.3938\n",
      "Episode 1770\tAverage Score: 0.3746\n",
      "Episode 1780\tAverage Score: 0.3807\n",
      "Episode 1790\tAverage Score: 0.3968\n",
      "Episode 1800\tAverage Score: 0.4012\n",
      "Episode 1810\tAverage Score: 0.4143\n",
      "Episode 1820\tAverage Score: 0.4554\n",
      "Episode 1830\tAverage Score: 0.4697\n",
      "Episode 1840\tAverage Score: 0.4770\n",
      "Episode 1850\tAverage Score: 0.4883\n",
      "Episode 1860\tAverage Score: 0.4582\n",
      "Episode 1866\tAverage Score: 0.5053Problem Solved in 1766 episodes\tAverage score: 0.5053\n"
     ]
    }
   ],
   "source": [
    "scores = maddpg(agent)"
   ]
  },
  {
   "cell_type": "code",
   "execution_count": 12,
   "metadata": {},
   "outputs": [
    {
     "data": {
      "image/png": "[encoded data removed]",
      "text/plain": [
       "<matplotlib.figure.Figure at 0x7fed66cc2898>"
      ]
     },
     "metadata": {
      "needs_background": "light"
     },
     "output_type": "display_data"
    }
   ],
   "source": [
    "fig = plt.figure()\n",
    "ax = fig.add_subplot(111)\n",
    "plt.plot(np.arange(1, len(scores) + 1), scores)\n",
    "plt.ylabel('Score')\n",
    "plt.xlabel('Episode #')\n",
    "plt.show()"
   ]
  },
  {
   "cell_type": "markdown",
   "metadata": {},
   "source": [
    "#### 4.3 Watch a Smart Agent\n",
    "\n",
    "Load the trained weights from file to watch a smart agent!"
   ]
  },
  {
   "cell_type": "code",
   "execution_count": 9,
   "metadata": {},
   "outputs": [],
   "source": [
    "agent.load_weights()"
   ]
  },
  {
   "cell_type": "code",
   "execution_count": 10,
   "metadata": {},
   "outputs": [
    {
     "name": "stderr",
     "output_type": "stream",
     "text": [
      "C:\\Users\\BlackHat\\Anaconda3\\envs\\drlnd\\lib\\site-packages\\torch\\nn\\functional.py:1558: UserWarning: nn.functional.tanh is deprecated. Use torch.tanh instead.\n",
      "  warnings.warn(\"nn.functional.tanh is deprecated. Use torch.tanh instead.\")\n"
     ]
    },
    {
     "name": "stdout",
     "output_type": "stream",
     "text": [
      "Max score: 2.60\n"
     ]
    }
   ],
   "source": [
    "env_info = env.reset(train_mode = False)[brain_name]     # reset the environment    \n",
    "states = env_info.vector_observations                    # get the current state (for each agent)\n",
    "scores = np.zeros(num_agents)                            # initialize the score (for each agent)\n",
    "while True:\n",
    "    actions = agent.act(states, add_noise = False)     # select actions\n",
    "    env_info = env.step(actions)[brain_name]           # send all actions to tne environment\n",
    "    next_states = env_info.vector_observations         # get next state (for each agent)\n",
    "    rewards = env_info.rewards                         # get reward (for each agent)\n",
    "    dones = env_info.local_done                        # see if episode finished\n",
    "    \n",
    "    states = next_states                               # roll over states to next time step\n",
    "    scores += rewards                                  # update the score (for each agent)\n",
    "\n",
    "    if np.any(dones):                                  # exit loop if episode finished\n",
    "        break\n",
    "\n",
    "env.close()\n",
    "\n",
    "print(\"Max score: {:.2f}\".format(max(scores)))"
   ]
  },
  {
   "cell_type": "code",
   "execution_count": null,
   "metadata": {},
   "outputs": [],
   "source": []
  }
 ],
 "metadata": {
  "kernelspec": {
   "display_name": "drlnd",
   "language": "python",
   "name": "drlnd"
  },
  "language_info": {
   "codemirror_mode": {
    "name": "ipython",
    "version": 3
   },
   "file_extension": ".py",
   "mimetype": "text/x-python",
   "name": "python",
   "nbconvert_exporter": "python",
   "pygments_lexer": "ipython3",
   "version": "3.6.10"
  }
 },
 "nbformat": 4,
 "nbformat_minor": 2
}
